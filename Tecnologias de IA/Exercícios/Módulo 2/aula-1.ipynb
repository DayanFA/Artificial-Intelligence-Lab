{
 "cells": [
  {
   "cell_type": "markdown",
   "id": "3aa3e0f1",
   "metadata": {
    "papermill": {
     "duration": 0.005011,
     "end_time": "2023-06-02T00:56:08.900559",
     "exception": false,
     "start_time": "2023-06-02T00:56:08.895548",
     "status": "completed"
    },
    "tags": []
   },
   "source": [
    "# Aula de phyton 1"
   ]
  },
  {
   "cell_type": "markdown",
   "id": "12cb570c",
   "metadata": {
    "papermill": {
     "duration": 0.004376,
     "end_time": "2023-06-02T00:56:08.909490",
     "exception": false,
     "start_time": "2023-06-02T00:56:08.905114",
     "status": "completed"
    },
    "tags": []
   },
   "source": [
    "$f = \\alpha + \\beta_i^2$"
   ]
  },
  {
   "cell_type": "code",
   "execution_count": 1,
   "id": "2205bbb5",
   "metadata": {
    "execution": {
     "iopub.execute_input": "2023-06-02T00:56:08.920596Z",
     "iopub.status.busy": "2023-06-02T00:56:08.919888Z",
     "iopub.status.idle": "2023-06-02T00:56:08.938109Z",
     "shell.execute_reply": "2023-06-02T00:56:08.936389Z"
    },
    "papermill": {
     "duration": 0.028748,
     "end_time": "2023-06-02T00:56:08.942693",
     "exception": false,
     "start_time": "2023-06-02T00:56:08.913945",
     "status": "completed"
    },
    "tags": []
   },
   "outputs": [
    {
     "name": "stdout",
     "output_type": "stream",
     "text": [
      "11\n"
     ]
    }
   ],
   "source": [
    "alpha=2\n",
    "beta_i=3\n",
    "f=alpha+beta_i**2\n",
    "print(f)"
   ]
  },
  {
   "cell_type": "markdown",
   "id": "09348f30",
   "metadata": {
    "papermill": {
     "duration": 0.005468,
     "end_time": "2023-06-02T00:56:08.953623",
     "exception": false,
     "start_time": "2023-06-02T00:56:08.948155",
     "status": "completed"
    },
    "tags": []
   },
   "source": [
    "# 1. Captitulo 1\n",
    "### Alguma historia. Revisão biblioggrafica a tal\n",
    "\n",
    "## 1.1 Prmeira parte do código\n",
    "### vou explicar o que vou fazer\n",
    "<h3>\n",
    "    vou pegar 1 e vou multiplicar por 3\n",
    "    e imprimir o resultado\n",
    "</h3>"
   ]
  },
  {
   "cell_type": "code",
   "execution_count": 2,
   "id": "3ecefa81",
   "metadata": {
    "execution": {
     "iopub.execute_input": "2023-06-02T00:56:08.967606Z",
     "iopub.status.busy": "2023-06-02T00:56:08.967195Z",
     "iopub.status.idle": "2023-06-02T00:56:08.972861Z",
     "shell.execute_reply": "2023-06-02T00:56:08.971725Z"
    },
    "papermill": {
     "duration": 0.016951,
     "end_time": "2023-06-02T00:56:08.976260",
     "exception": false,
     "start_time": "2023-06-02T00:56:08.959309",
     "status": "completed"
    },
    "tags": []
   },
   "outputs": [
    {
     "name": "stdout",
     "output_type": "stream",
     "text": [
      "33\n"
     ]
    }
   ],
   "source": [
    "f2=f*3\n",
    "print(f2)"
   ]
  },
  {
   "cell_type": "markdown",
   "id": "d3ae7c2b",
   "metadata": {
    "papermill": {
     "duration": 0.006268,
     "end_time": "2023-06-02T00:56:08.988855",
     "exception": false,
     "start_time": "2023-06-02T00:56:08.982587",
     "status": "completed"
    },
    "tags": []
   },
   "source": []
  },
  {
   "cell_type": "markdown",
   "id": "080c235f",
   "metadata": {
    "papermill": {
     "duration": 0.00512,
     "end_time": "2023-06-02T00:56:08.999812",
     "exception": false,
     "start_time": "2023-06-02T00:56:08.994692",
     "status": "completed"
    },
    "tags": []
   },
   "source": [
    "### Alem de escrever texto, posso incluir imagens\n",
    "<p>\n",
    "<img src=\"data:image/jpeg;base64,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\">"
   ]
  },
  {
   "cell_type": "code",
   "execution_count": 3,
   "id": "b31b6c39",
   "metadata": {
    "execution": {
     "iopub.execute_input": "2023-06-02T00:56:09.014611Z",
     "iopub.status.busy": "2023-06-02T00:56:09.014226Z",
     "iopub.status.idle": "2023-06-02T00:56:09.023121Z",
     "shell.execute_reply": "2023-06-02T00:56:09.021994Z"
    },
    "papermill": {
     "duration": 0.019787,
     "end_time": "2023-06-02T00:56:09.025491",
     "exception": false,
     "start_time": "2023-06-02T00:56:09.005704",
     "status": "completed"
    },
    "tags": []
   },
   "outputs": [
    {
     "data": {
      "text/plain": [
       "'pablopablopablopablopablopablo'"
      ]
     },
     "execution_count": 3,
     "metadata": {},
     "output_type": "execute_result"
    }
   ],
   "source": [
    "#Variaveis\n",
    "va1=3 #Número inteiro (int)\n",
    "var2='texto'#String\n",
    "var3=True #Boolean\n",
    "4+3 #Se eu deixar assim sem armazenar, se perde\n",
    "4**3\n",
    "'pablo' + 'pablo'\n",
    "'pablo' *6\n",
    "#Funções/Metodos"
   ]
  },
  {
   "cell_type": "markdown",
   "id": "23c2a09c",
   "metadata": {
    "papermill": {
     "duration": 0.00458,
     "end_time": "2023-06-02T00:56:09.035285",
     "exception": false,
     "start_time": "2023-06-02T00:56:09.030705",
     "status": "completed"
    },
    "tags": []
   },
   "source": [
    "# Agora vamos ver como lidar com funções e metodos\n",
    "\n",
    "##### Funções e metodos\n",
    "uma função tem o formato:\n",
    "nomedafunção(entrada1, entrada2, etrada3...)\n",
    "### Tem 2 tipos de funções: functions e voids  - fornece entradas e função devolve algum valor voids - fornece entradas e funão não devolve nada"
   ]
  },
  {
   "cell_type": "code",
   "execution_count": 4,
   "id": "74f4ccc2",
   "metadata": {
    "execution": {
     "iopub.execute_input": "2023-06-02T00:56:09.047157Z",
     "iopub.status.busy": "2023-06-02T00:56:09.046075Z",
     "iopub.status.idle": "2023-06-02T00:56:09.053076Z",
     "shell.execute_reply": "2023-06-02T00:56:09.051818Z"
    },
    "papermill": {
     "duration": 0.015374,
     "end_time": "2023-06-02T00:56:09.055404",
     "exception": false,
     "start_time": "2023-06-02T00:56:09.040030",
     "status": "completed"
    },
    "tags": []
   },
   "outputs": [
    {
     "name": "stdout",
     "output_type": "stream",
     "text": [
      "64\n"
     ]
    }
   ],
   "source": [
    "#Parte 1 eh definir a funçãp\n",
    "def funcao1(numero1,numero2):\n",
    "    a=(numero1+numero2)**2\n",
    "    return a #Return devolve o valor\n",
    "    #Comentario\n",
    "    \n",
    "#Executar ou chamar a função\n",
    "b=funcao1(3,5)\n",
    "print(b)"
   ]
  },
  {
   "cell_type": "markdown",
   "id": "5e9eab5a",
   "metadata": {
    "papermill": {
     "duration": 0.005892,
     "end_time": "2023-06-02T00:56:09.066668",
     "exception": false,
     "start_time": "2023-06-02T00:56:09.060776",
     "status": "completed"
    },
    "tags": []
   },
   "source": [
    "Vão criar uma função que vai receber 3 entradas e vai fazer alguma conta com as entradas. Vai devolver a função\n",
    "lá embaixo vão chamar a função, armazear em algum valor e imprimir-print"
   ]
  },
  {
   "cell_type": "code",
   "execution_count": 5,
   "id": "b0a11dc1",
   "metadata": {
    "execution": {
     "iopub.execute_input": "2023-06-02T00:56:09.078016Z",
     "iopub.status.busy": "2023-06-02T00:56:09.077659Z",
     "iopub.status.idle": "2023-06-02T00:56:09.083452Z",
     "shell.execute_reply": "2023-06-02T00:56:09.082380Z"
    },
    "papermill": {
     "duration": 0.014685,
     "end_time": "2023-06-02T00:56:09.086121",
     "exception": false,
     "start_time": "2023-06-02T00:56:09.071436",
     "status": "completed"
    },
    "tags": []
   },
   "outputs": [
    {
     "name": "stdout",
     "output_type": "stream",
     "text": [
      "38\n"
     ]
    }
   ],
   "source": [
    "def funcao1(a,b,c):\n",
    "    \n",
    "    z=(a+b*c)\n",
    "    return z\n",
    "\n",
    "sim=funcao1(3,5,7)\n",
    "print(sim)"
   ]
  },
  {
   "cell_type": "code",
   "execution_count": 6,
   "id": "90095426",
   "metadata": {
    "execution": {
     "iopub.execute_input": "2023-06-02T00:56:09.097834Z",
     "iopub.status.busy": "2023-06-02T00:56:09.097483Z",
     "iopub.status.idle": "2023-06-02T00:56:09.102428Z",
     "shell.execute_reply": "2023-06-02T00:56:09.101424Z"
    },
    "papermill": {
     "duration": 0.013519,
     "end_time": "2023-06-02T00:56:09.104645",
     "exception": false,
     "start_time": "2023-06-02T00:56:09.091126",
     "status": "completed"
    },
    "tags": []
   },
   "outputs": [],
   "source": [
    "def xxx(var1, var2):\n",
    "    print('defini var1='+var1+'e var2=' +var2)\n",
    "    xxx ('aula','ia')"
   ]
  }
 ],
 "metadata": {
  "kernelspec": {
   "display_name": "Python 3",
   "language": "python",
   "name": "python3"
  },
  "language_info": {
   "codemirror_mode": {
    "name": "ipython",
    "version": 3
   },
   "file_extension": ".py",
   "mimetype": "text/x-python",
   "name": "python",
   "nbconvert_exporter": "python",
   "pygments_lexer": "ipython3",
   "version": "3.10.10"
  },
  "papermill": {
   "default_parameters": {},
   "duration": 12.824585,
   "end_time": "2023-06-02T00:56:09.930013",
   "environment_variables": {},
   "exception": null,
   "input_path": "__notebook__.ipynb",
   "output_path": "__notebook__.ipynb",
   "parameters": {},
   "start_time": "2023-06-02T00:55:57.105428",
   "version": "2.4.0"
  }
 },
 "nbformat": 4,
 "nbformat_minor": 5
}
